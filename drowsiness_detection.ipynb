{
  "cells": [
    {
      "cell_type": "markdown",
      "id": "91579fe7",
      "metadata": {
        "papermill": {
          "duration": 0.008422,
          "end_time": "2023-03-24T09:18:32.859777",
          "exception": false,
          "start_time": "2023-03-24T09:18:32.851355",
          "status": "completed"
        },
        "tags": [],
        "id": "91579fe7"
      },
      "source": [
        "# **Importing the  libraries**"
      ]
    },
    {
      "cell_type": "code",
      "execution_count": 28,
      "id": "9a71493c",
      "metadata": {
        "_cell_guid": "b1076dfc-b9ad-4769-8c92-a6c4dae69d19",
        "_uuid": "8f2839f25d086af736a60e9eeb907d3b93b6e0e5",
        "execution": {
          "iopub.execute_input": "2023-03-24T09:18:32.875452Z",
          "iopub.status.busy": "2023-03-24T09:18:32.875019Z",
          "iopub.status.idle": "2023-03-24T09:18:41.302798Z",
          "shell.execute_reply": "2023-03-24T09:18:41.301240Z"
        },
        "papermill": {
          "duration": 8.438967,
          "end_time": "2023-03-24T09:18:41.305882",
          "exception": false,
          "start_time": "2023-03-24T09:18:32.866915",
          "status": "completed"
        },
        "tags": [],
        "id": "9a71493c"
      },
      "outputs": [],
      "source": [
        "import numpy as np \n",
        "import pandas as pd \n",
        "import os\n",
        "import tensorflow as tf\n",
        "\n",
        "from glob import glob\n",
        "from tqdm import tqdm\n",
        "\n",
        "import matplotlib.pyplot as plt\n",
        "from PIL import Image"
      ]
    },
    {
      "cell_type": "markdown",
      "id": "769a64ce",
      "metadata": {
        "papermill": {
          "duration": 0.016082,
          "end_time": "2023-03-24T09:18:41.328852",
          "exception": false,
          "start_time": "2023-03-24T09:18:41.312770",
          "status": "completed"
        },
        "tags": [],
        "id": "769a64ce"
      },
      "source": [
        "# **Loading the Images**"
      ]
    },
    {
      "cell_type": "code",
      "execution_count": 29,
      "id": "03fbe3d1",
      "metadata": {
        "execution": {
          "iopub.execute_input": "2023-03-24T09:18:41.346130Z",
          "iopub.status.busy": "2023-03-24T09:18:41.344654Z",
          "iopub.status.idle": "2023-03-24T09:19:11.971418Z",
          "shell.execute_reply": "2023-03-24T09:19:11.970095Z"
        },
        "papermill": {
          "duration": 30.639378,
          "end_time": "2023-03-24T09:19:11.975552",
          "exception": false,
          "start_time": "2023-03-24T09:18:41.336174",
          "status": "completed"
        },
        "tags": [],
        "colab": {
          "base_uri": "https://localhost:8080/"
        },
        "id": "03fbe3d1",
        "outputId": "25ca412d-8b96-492d-cd31-ba99acdeb9a5"
      },
      "outputs": [
        {
          "output_type": "stream",
          "name": "stderr",
          "text": [
            "100%|██████████| 2000/2000 [00:05<00:00, 335.44it/s]\n",
            "100%|██████████| 2000/2000 [00:04<00:00, 420.76it/s]\n"
          ]
        }
      ],
      "source": [
        "X = []\n",
        "Y = []\n",
        "\n",
        "for i in tqdm(glob('/content/drive/MyDrive/Shared/Drowsiness Detection/train/Open_Eyes/*')):\n",
        "    temp = np.array(Image.open(i).resize((64,64)))\n",
        "    X.append(temp)\n",
        "    Y.append(1)\n",
        "    \n",
        "for i in tqdm(glob('/content/drive/MyDrive/Shared/Drowsiness Detection/train/Closed_Eyes/*')):\n",
        "    temp = np.array(Image.open(i).resize((64,64)))\n",
        "    X.append(temp)\n",
        "    Y.append(0)    "
      ]
    },
    {
      "cell_type": "markdown",
      "id": "4bf35493",
      "metadata": {
        "papermill": {
          "duration": 0.024194,
          "end_time": "2023-03-24T09:19:12.025211",
          "exception": false,
          "start_time": "2023-03-24T09:19:12.001017",
          "status": "completed"
        },
        "tags": [],
        "id": "4bf35493"
      },
      "source": [
        "# **Normalizing the images (with any algorithm)**"
      ]
    },
    {
      "cell_type": "code",
      "execution_count": 30,
      "id": "e292f3a5",
      "metadata": {
        "execution": {
          "iopub.execute_input": "2023-03-24T09:19:12.076077Z",
          "iopub.status.busy": "2023-03-24T09:19:12.074954Z",
          "iopub.status.idle": "2023-03-24T09:19:12.080200Z",
          "shell.execute_reply": "2023-03-24T09:19:12.079262Z"
        },
        "papermill": {
          "duration": 0.033625,
          "end_time": "2023-03-24T09:19:12.082626",
          "exception": false,
          "start_time": "2023-03-24T09:19:12.049001",
          "status": "completed"
        },
        "tags": [],
        "id": "e292f3a5"
      },
      "outputs": [],
      "source": [
        "# X = np.array(X)\n",
        "# X = X/255.0\n",
        "# Y = np.array(Y)"
      ]
    },
    {
      "cell_type": "markdown",
      "id": "16a86f4e",
      "metadata": {
        "papermill": {
          "duration": 0.024529,
          "end_time": "2023-03-24T09:19:12.130533",
          "exception": false,
          "start_time": "2023-03-24T09:19:12.106004",
          "status": "completed"
        },
        "tags": [],
        "id": "16a86f4e"
      },
      "source": [
        "# **Normalizing the images using Min-Max Scaling algorithm**"
      ]
    },
    {
      "cell_type": "code",
      "execution_count": 31,
      "id": "e2d0e082",
      "metadata": {
        "execution": {
          "iopub.execute_input": "2023-03-24T09:19:12.181629Z",
          "iopub.status.busy": "2023-03-24T09:19:12.180509Z",
          "iopub.status.idle": "2023-03-24T09:19:12.396796Z",
          "shell.execute_reply": "2023-03-24T09:19:12.395426Z"
        },
        "papermill": {
          "duration": 0.245338,
          "end_time": "2023-03-24T09:19:12.399694",
          "exception": false,
          "start_time": "2023-03-24T09:19:12.154356",
          "status": "completed"
        },
        "tags": [],
        "id": "e2d0e082"
      },
      "outputs": [],
      "source": [
        "X = (np.array(X) - np.min(X)) / (np.max(X) - np.min(X))\n",
        "X = X/255.0\n",
        "Y = (np.array(Y) - np.min(Y)) / (np.max(Y) - np.min(Y))"
      ]
    },
    {
      "cell_type": "markdown",
      "id": "0ceb03dd",
      "metadata": {
        "papermill": {
          "duration": 0.0234,
          "end_time": "2023-03-24T09:19:12.447162",
          "exception": false,
          "start_time": "2023-03-24T09:19:12.423762",
          "status": "completed"
        },
        "tags": [],
        "id": "0ceb03dd"
      },
      "source": [
        "# **Normalizing the images using Z-Score algorithm**"
      ]
    },
    {
      "cell_type": "code",
      "execution_count": 32,
      "id": "902e6f89",
      "metadata": {
        "execution": {
          "iopub.execute_input": "2023-03-24T09:19:12.497631Z",
          "iopub.status.busy": "2023-03-24T09:19:12.497194Z",
          "iopub.status.idle": "2023-03-24T09:19:12.502336Z",
          "shell.execute_reply": "2023-03-24T09:19:12.501061Z"
        },
        "papermill": {
          "duration": 0.033572,
          "end_time": "2023-03-24T09:19:12.505202",
          "exception": false,
          "start_time": "2023-03-24T09:19:12.471630",
          "status": "completed"
        },
        "tags": [],
        "id": "902e6f89"
      },
      "outputs": [],
      "source": [
        "# 'X = (np.array(X) - np.mean(X)) / np.std(X)\n",
        "# X = X/255.0\n",
        "# Y = (np.array(Y) - np.mean(Y)) / np.std(Y)'"
      ]
    },
    {
      "cell_type": "markdown",
      "id": "06bc370d",
      "metadata": {
        "papermill": {
          "duration": 0.023503,
          "end_time": "2023-03-24T09:19:12.551867",
          "exception": false,
          "start_time": "2023-03-24T09:19:12.528364",
          "status": "completed"
        },
        "tags": [],
        "id": "06bc370d"
      },
      "source": [
        "# Expanding the dimensions of array (numpy)"
      ]
    },
    {
      "cell_type": "code",
      "execution_count": 33,
      "id": "493f1dd5",
      "metadata": {
        "execution": {
          "iopub.execute_input": "2023-03-24T09:19:12.616685Z",
          "iopub.status.busy": "2023-03-24T09:19:12.615677Z",
          "iopub.status.idle": "2023-03-24T09:19:12.621678Z",
          "shell.execute_reply": "2023-03-24T09:19:12.620480Z"
        },
        "papermill": {
          "duration": 0.044992,
          "end_time": "2023-03-24T09:19:12.624904",
          "exception": false,
          "start_time": "2023-03-24T09:19:12.579912",
          "status": "completed"
        },
        "tags": [],
        "id": "493f1dd5"
      },
      "outputs": [],
      "source": [
        "X = np.expand_dims(X,-1)"
      ]
    },
    {
      "cell_type": "markdown",
      "id": "6406ed0e",
      "metadata": {
        "papermill": {
          "duration": 0.035265,
          "end_time": "2023-03-24T09:19:12.697198",
          "exception": false,
          "start_time": "2023-03-24T09:19:12.661933",
          "status": "completed"
        },
        "tags": [],
        "id": "6406ed0e"
      },
      "source": [
        "# Spliting the dataset into training and testing data"
      ]
    },
    {
      "cell_type": "code",
      "execution_count": 34,
      "id": "f9a63eda",
      "metadata": {
        "execution": {
          "iopub.execute_input": "2023-03-24T09:19:12.752657Z",
          "iopub.status.busy": "2023-03-24T09:19:12.752218Z",
          "iopub.status.idle": "2023-03-24T09:19:13.460245Z",
          "shell.execute_reply": "2023-03-24T09:19:13.459208Z"
        },
        "papermill": {
          "duration": 0.737718,
          "end_time": "2023-03-24T09:19:13.463001",
          "exception": false,
          "start_time": "2023-03-24T09:19:12.725283",
          "status": "completed"
        },
        "tags": [],
        "id": "f9a63eda"
      },
      "outputs": [],
      "source": [
        "from sklearn.model_selection import train_test_split\n",
        "x_train, x_test, y_train, y_test = train_test_split(X, Y, test_size=0.33, random_state=42)"
      ]
    },
    {
      "cell_type": "markdown",
      "id": "0682f86c",
      "metadata": {
        "papermill": {
          "duration": 0.026472,
          "end_time": "2023-03-24T09:19:13.514034",
          "exception": false,
          "start_time": "2023-03-24T09:19:13.487562",
          "status": "completed"
        },
        "tags": [],
        "id": "0682f86c"
      },
      "source": [
        "# CNN Model"
      ]
    },
    {
      "cell_type": "code",
      "execution_count": 35,
      "id": "f5b41ec3",
      "metadata": {
        "execution": {
          "iopub.execute_input": "2023-03-24T09:19:13.563318Z",
          "iopub.status.busy": "2023-03-24T09:19:13.562511Z",
          "iopub.status.idle": "2023-03-24T09:19:14.136049Z",
          "shell.execute_reply": "2023-03-24T09:19:14.135079Z"
        },
        "papermill": {
          "duration": 0.601002,
          "end_time": "2023-03-24T09:19:14.138585",
          "exception": false,
          "start_time": "2023-03-24T09:19:13.537583",
          "status": "completed"
        },
        "tags": [],
        "id": "f5b41ec3"
      },
      "outputs": [],
      "source": [
        "from tensorflow.keras.models import Sequential\n",
        "from tensorflow.keras.layers import Dense, Input, Conv2D, BatchNormalization, MaxPooling2D,Dropout, Flatten\n",
        "\n",
        "model = tf.keras.models.Sequential([\n",
        "      Input(shape=(64, 64, 1)),\n",
        "\n",
        "      Conv2D(filters = 32, kernel_size = 5, strides = 1, activation = 'relu'),\n",
        "      Conv2D(filters = 32, kernel_size = 5, strides = 1, activation = 'relu', use_bias=False),\n",
        "      BatchNormalization(),\n",
        "      MaxPooling2D(strides = 2),\n",
        "      Dropout(0.3),\n",
        "\n",
        "      Conv2D(filters = 64, kernel_size = 3, strides = 1, activation = 'relu'),\n",
        "      Conv2D(filters = 64, kernel_size = 3, strides = 1, activation = 'relu', use_bias=False),\n",
        "      BatchNormalization(),\n",
        "      MaxPooling2D(strides = 2),\n",
        "      Dropout(0.3),\n",
        "\n",
        "      Flatten(),\n",
        "      Dense(units  = 256, activation = 'relu', use_bias=False),\n",
        "      BatchNormalization(),\n",
        "\n",
        "      Dense(units = 128, use_bias=False, activation = 'relu'),\n",
        "\n",
        "      Dense(units = 84, use_bias=False, activation = 'relu'),\n",
        "      BatchNormalization(),\n",
        "      Dropout(0.3),\n",
        "\n",
        "      Dense(units = 1, activation = 'sigmoid')\n",
        "  ])"
      ]
    },
    {
      "cell_type": "markdown",
      "id": "c80edfc4",
      "metadata": {
        "papermill": {
          "duration": 0.024465,
          "end_time": "2023-03-24T09:19:14.186980",
          "exception": false,
          "start_time": "2023-03-24T09:19:14.162515",
          "status": "completed"
        },
        "tags": [],
        "id": "c80edfc4"
      },
      "source": [
        "# Compiling the Model"
      ]
    },
    {
      "cell_type": "code",
      "execution_count": 36,
      "id": "42643b1a",
      "metadata": {
        "execution": {
          "iopub.execute_input": "2023-03-24T09:19:14.237773Z",
          "iopub.status.busy": "2023-03-24T09:19:14.237309Z",
          "iopub.status.idle": "2023-03-24T09:19:14.258237Z",
          "shell.execute_reply": "2023-03-24T09:19:14.256867Z"
        },
        "papermill": {
          "duration": 0.048673,
          "end_time": "2023-03-24T09:19:14.261103",
          "exception": false,
          "start_time": "2023-03-24T09:19:14.212430",
          "status": "completed"
        },
        "tags": [],
        "id": "42643b1a"
      },
      "outputs": [],
      "source": [
        "model.compile(loss='binary_crossentropy',optimizer='adam', metrics=['accuracy'])"
      ]
    },
    {
      "cell_type": "markdown",
      "id": "a79c38a6",
      "metadata": {
        "papermill": {
          "duration": 0.024359,
          "end_time": "2023-03-24T09:19:14.309981",
          "exception": false,
          "start_time": "2023-03-24T09:19:14.285622",
          "status": "completed"
        },
        "tags": [],
        "id": "a79c38a6"
      },
      "source": [
        "# Training of the Model"
      ]
    },
    {
      "cell_type": "code",
      "execution_count": 37,
      "id": "2a0c5c55",
      "metadata": {
        "execution": {
          "iopub.execute_input": "2023-03-24T09:19:14.360265Z",
          "iopub.status.busy": "2023-03-24T09:19:14.359835Z",
          "iopub.status.idle": "2023-03-24T09:37:38.868746Z",
          "shell.execute_reply": "2023-03-24T09:37:38.867393Z"
        },
        "papermill": {
          "duration": 1104.69597,
          "end_time": "2023-03-24T09:37:39.030153",
          "exception": false,
          "start_time": "2023-03-24T09:19:14.334183",
          "status": "completed"
        },
        "tags": [],
        "colab": {
          "base_uri": "https://localhost:8080/"
        },
        "id": "2a0c5c55",
        "outputId": "e5450070-fd9c-41ee-c49d-81aa3385788f"
      },
      "outputs": [
        {
          "output_type": "stream",
          "name": "stdout",
          "text": [
            "Epoch 1/10\n",
            "67/67 [==============================] - ETA: 0s - loss: 0.1288 - accuracy: 0.9534\n",
            "Epoch 1: val_loss improved from inf to 0.68563, saving model to bestModel.h5\n",
            "67/67 [==============================] - 79s 1s/step - loss: 0.1288 - accuracy: 0.9534 - val_loss: 0.6856 - val_accuracy: 0.9590\n",
            "Epoch 2/10\n",
            "67/67 [==============================] - ETA: 0s - loss: 0.0548 - accuracy: 0.9832\n",
            "Epoch 2: val_loss did not improve from 0.68563\n",
            "67/67 [==============================] - 76s 1s/step - loss: 0.0548 - accuracy: 0.9832 - val_loss: 1.0363 - val_accuracy: 0.4813\n",
            "Epoch 3/10\n",
            "67/67 [==============================] - ETA: 0s - loss: 0.0497 - accuracy: 0.9841\n",
            "Epoch 3: val_loss did not improve from 0.68563\n",
            "67/67 [==============================] - 72s 1s/step - loss: 0.0497 - accuracy: 0.9841 - val_loss: 0.7480 - val_accuracy: 0.4813\n",
            "Epoch 4/10\n",
            "67/67 [==============================] - ETA: 0s - loss: 0.0377 - accuracy: 0.9888\n",
            "Epoch 4: val_loss did not improve from 0.68563\n",
            "67/67 [==============================] - 75s 1s/step - loss: 0.0377 - accuracy: 0.9888 - val_loss: 0.7727 - val_accuracy: 0.4813\n",
            "Epoch 5/10\n",
            "67/67 [==============================] - ETA: 0s - loss: 0.0130 - accuracy: 0.9967\n",
            "Epoch 5: val_loss improved from 0.68563 to 0.59139, saving model to bestModel.h5\n",
            "67/67 [==============================] - 76s 1s/step - loss: 0.0130 - accuracy: 0.9967 - val_loss: 0.5914 - val_accuracy: 0.6679\n",
            "Epoch 6/10\n",
            "67/67 [==============================] - ETA: 0s - loss: 0.0256 - accuracy: 0.9921\n",
            "Epoch 6: val_loss improved from 0.59139 to 0.27345, saving model to bestModel.h5\n",
            "67/67 [==============================] - 75s 1s/step - loss: 0.0256 - accuracy: 0.9921 - val_loss: 0.2734 - val_accuracy: 0.9198\n",
            "Epoch 7/10\n",
            "67/67 [==============================] - ETA: 0s - loss: 0.0170 - accuracy: 0.9949\n",
            "Epoch 7: val_loss did not improve from 0.27345\n",
            "67/67 [==============================] - 75s 1s/step - loss: 0.0170 - accuracy: 0.9949 - val_loss: 0.7446 - val_accuracy: 0.6978\n",
            "Epoch 8/10\n",
            "67/67 [==============================] - ETA: 0s - loss: 0.0213 - accuracy: 0.9939\n",
            "Epoch 8: val_loss improved from 0.27345 to 0.10015, saving model to bestModel.h5\n",
            "67/67 [==============================] - 74s 1s/step - loss: 0.0213 - accuracy: 0.9939 - val_loss: 0.1002 - val_accuracy: 0.9832\n",
            "Epoch 9/10\n",
            "67/67 [==============================] - ETA: 0s - loss: 0.0157 - accuracy: 0.9963\n",
            "Epoch 9: val_loss did not improve from 0.10015\n",
            "67/67 [==============================] - 75s 1s/step - loss: 0.0157 - accuracy: 0.9963 - val_loss: 0.8230 - val_accuracy: 0.6866\n",
            "Epoch 10/10\n",
            "67/67 [==============================] - ETA: 0s - loss: 0.0148 - accuracy: 0.9963\n",
            "Epoch 10: val_loss did not improve from 0.10015\n",
            "67/67 [==============================] - 75s 1s/step - loss: 0.0148 - accuracy: 0.9963 - val_loss: 0.6151 - val_accuracy: 0.7537\n"
          ]
        },
        {
          "output_type": "execute_result",
          "data": {
            "text/plain": [
              "<keras.callbacks.History at 0x7faa105e9870>"
            ]
          },
          "metadata": {},
          "execution_count": 37
        }
      ],
      "source": [
        "callback = tf.keras.callbacks.ModelCheckpoint(\n",
        "    filepath='bestModel.h5',\n",
        "    save_weights_only=False,\n",
        "    monitor='val_loss',\n",
        "    mode='min',\n",
        "    save_best_only=True,\n",
        "    verbose =1)\n",
        "model.fit(x_train, y_train, validation_split=0.2, epochs=10, batch_size=32, callbacks=callback)"
      ]
    },
    {
      "cell_type": "markdown",
      "id": "30b616da",
      "metadata": {
        "papermill": {
          "duration": 0.158583,
          "end_time": "2023-03-24T09:37:39.348845",
          "exception": false,
          "start_time": "2023-03-24T09:37:39.190262",
          "status": "completed"
        },
        "tags": [],
        "id": "30b616da"
      },
      "source": [
        "# Model Evaluation"
      ]
    },
    {
      "cell_type": "code",
      "execution_count": 38,
      "id": "77f5a46e",
      "metadata": {
        "execution": {
          "iopub.execute_input": "2023-03-24T09:37:39.670732Z",
          "iopub.status.busy": "2023-03-24T09:37:39.670265Z",
          "iopub.status.idle": "2023-03-24T09:37:43.725321Z",
          "shell.execute_reply": "2023-03-24T09:37:43.724073Z"
        },
        "papermill": {
          "duration": 4.219052,
          "end_time": "2023-03-24T09:37:43.728118",
          "exception": false,
          "start_time": "2023-03-24T09:37:39.509066",
          "status": "completed"
        },
        "tags": [],
        "colab": {
          "base_uri": "https://localhost:8080/"
        },
        "id": "77f5a46e",
        "outputId": "7428acbc-563c-438d-bd1f-32bc743823e7"
      },
      "outputs": [
        {
          "output_type": "stream",
          "name": "stdout",
          "text": [
            "42/42 [==============================] - 10s 240ms/step - loss: 0.5230 - accuracy: 0.7902\n"
          ]
        },
        {
          "output_type": "execute_result",
          "data": {
            "text/plain": [
              "[0.5230398178100586, 0.7901515364646912]"
            ]
          },
          "metadata": {},
          "execution_count": 38
        }
      ],
      "source": [
        "model.evaluate(x_test, y_test)"
      ]
    },
    {
      "cell_type": "markdown",
      "id": "8cd5b64e",
      "metadata": {
        "papermill": {
          "duration": 0.163336,
          "end_time": "2023-03-24T09:37:44.052637",
          "exception": false,
          "start_time": "2023-03-24T09:37:43.889301",
          "status": "completed"
        },
        "tags": [],
        "id": "8cd5b64e"
      },
      "source": [
        "# Loading the Model Performance"
      ]
    },
    {
      "cell_type": "code",
      "execution_count": 39,
      "id": "f1bd6724",
      "metadata": {
        "execution": {
          "iopub.execute_input": "2023-03-24T09:37:44.438123Z",
          "iopub.status.busy": "2023-03-24T09:37:44.437465Z",
          "iopub.status.idle": "2023-03-24T09:37:50.165904Z",
          "shell.execute_reply": "2023-03-24T09:37:50.164709Z"
        },
        "papermill": {
          "duration": 5.953312,
          "end_time": "2023-03-24T09:37:50.168739",
          "exception": false,
          "start_time": "2023-03-24T09:37:44.215427",
          "status": "completed"
        },
        "tags": [],
        "colab": {
          "base_uri": "https://localhost:8080/"
        },
        "id": "f1bd6724",
        "outputId": "39208a09-55e6-46e8-e2bc-1d9d12e3150b"
      },
      "outputs": [
        {
          "output_type": "stream",
          "name": "stdout",
          "text": [
            "42/42 [==============================] - 10s 231ms/step - loss: 0.1033 - accuracy: 0.9803\n"
          ]
        },
        {
          "output_type": "execute_result",
          "data": {
            "text/plain": [
              "[0.10332013666629791, 0.9803030490875244]"
            ]
          },
          "metadata": {},
          "execution_count": 39
        }
      ],
      "source": [
        "from keras.models import load_model\n",
        "best_model = load_model('/content/bestModel.h5')\n",
        "best_model.evaluate(x_test, y_test)"
      ]
    },
    {
      "cell_type": "markdown",
      "id": "58358a31",
      "metadata": {
        "papermill": {
          "duration": 0.162072,
          "end_time": "2023-03-24T09:37:50.496065",
          "exception": false,
          "start_time": "2023-03-24T09:37:50.333993",
          "status": "completed"
        },
        "tags": [],
        "id": "58358a31"
      },
      "source": [
        "# Changing the dimensions and Plotting the trained images"
      ]
    },
    {
      "cell_type": "code",
      "execution_count": 40,
      "id": "b6c7a8de",
      "metadata": {
        "execution": {
          "iopub.execute_input": "2023-03-24T09:37:50.825959Z",
          "iopub.status.busy": "2023-03-24T09:37:50.825552Z",
          "iopub.status.idle": "2023-03-24T09:37:52.440932Z",
          "shell.execute_reply": "2023-03-24T09:37:52.438943Z"
        },
        "papermill": {
          "duration": 1.78554,
          "end_time": "2023-03-24T09:37:52.443970",
          "exception": false,
          "start_time": "2023-03-24T09:37:50.658430",
          "status": "completed"
        },
        "tags": [],
        "colab": {
          "base_uri": "https://localhost:8080/",
          "height": 1000
        },
        "id": "b6c7a8de",
        "outputId": "bb1330f8-85a4-4395-dcd5-5ef1b0ee8cf6"
      },
      "outputs": [
        {
          "output_type": "stream",
          "name": "stdout",
          "text": [
            "1/1 [==============================] - 0s 234ms/step\n"
          ]
        },
        {
          "output_type": "display_data",
          "data": {
            "text/plain": [
              "<Figure size 640x480 with 1 Axes>"
            ],
            "image/png": "[encoded data removed]"
          },
          "metadata": {}
        },
        {
          "output_type": "stream",
          "name": "stdout",
          "text": [
            "Open\n",
            "1/1 [==============================] - 0s 47ms/step\n"
          ]
        },
        {
          "output_type": "display_data",
          "data": {
            "text/plain": [
              "<Figure size 640x480 with 1 Axes>"
            ],
            "image/png": "[encoded data removed]"
          },
          "metadata": {}
        },
        {
          "output_type": "stream",
          "name": "stdout",
          "text": [
            "Closed\n",
            "1/1 [==============================] - 0s 30ms/step\n"
          ]
        },
        {
          "output_type": "display_data",
          "data": {
            "text/plain": [
              "<Figure size 640x480 with 1 Axes>"
            ],
            "image/png": "[encoded data removed]"
          },
          "metadata": {}
        },
        {
          "output_type": "stream",
          "name": "stdout",
          "text": [
            "Open\n",
            "1/1 [==============================] - 0s 29ms/step\n"
          ]
        },
        {
          "output_type": "display_data",
          "data": {
            "text/plain": [
              "<Figure size 640x480 with 1 Axes>"
            ],
            "image/png": "[encoded data removed]"
          },
          "metadata": {}
        },
        {
          "output_type": "stream",
          "name": "stdout",
          "text": [
            "Closed\n",
            "1/1 [==============================] - 0s 31ms/step\n"
          ]
        },
        {
          "output_type": "display_data",
          "data": {
            "text/plain": [
              "<Figure size 640x480 with 1 Axes>"
            ],
            "image/png": "[encoded data removed]"
          },
          "metadata": {}
        },
        {
          "output_type": "stream",
          "name": "stdout",
          "text": [
            "Closed\n"
          ]
        }
      ],
      "source": [
        "for i in x_test[0:5]:\n",
        "    result = best_model.predict(np.expand_dims(i,0))\n",
        "    plt.imshow(i)\n",
        "    plt.show()\n",
        "    \n",
        "    if result > 0.5:\n",
        "        print('Open')\n",
        "    else:\n",
        "        print(\"Closed\")\n",
        "    "
      ]
    },
    {
      "cell_type": "markdown",
      "id": "be57beab",
      "metadata": {
        "papermill": {
          "duration": 0.166873,
          "end_time": "2023-03-24T09:37:52.776532",
          "exception": false,
          "start_time": "2023-03-24T09:37:52.609659",
          "status": "completed"
        },
        "tags": [],
        "id": "be57beab"
      },
      "source": [
        "# Prediction and Confusion Matrix"
      ]
    },
    {
      "cell_type": "code",
      "execution_count": 41,
      "id": "b6d40124",
      "metadata": {
        "execution": {
          "iopub.execute_input": "2023-03-24T09:37:53.111781Z",
          "iopub.status.busy": "2023-03-24T09:37:53.110500Z",
          "iopub.status.idle": "2023-03-24T09:37:58.204937Z",
          "shell.execute_reply": "2023-03-24T09:37:58.203739Z"
        },
        "papermill": {
          "duration": 5.263951,
          "end_time": "2023-03-24T09:37:58.207597",
          "exception": false,
          "start_time": "2023-03-24T09:37:52.943646",
          "status": "completed"
        },
        "tags": [],
        "colab": {
          "base_uri": "https://localhost:8080/",
          "height": 543
        },
        "id": "b6d40124",
        "outputId": "0c3659e4-6dc1-408c-c05a-e1a8b157fdcc"
      },
      "outputs": [
        {
          "output_type": "stream",
          "name": "stdout",
          "text": [
            "42/42 [==============================] - 8s 182ms/step\n"
          ]
        },
        {
          "output_type": "execute_result",
          "data": {
            "text/plain": [
              "Text(0.5, 25.722222222222214, 'Actual')"
            ]
          },
          "metadata": {},
          "execution_count": 41
        },
        {
          "output_type": "display_data",
          "data": {
            "text/plain": [
              "<Figure size 1500x500 with 2 Axes>"
            ],
            "image/png": "[encoded data removed]"
          },
          "metadata": {}
        }
      ],
      "source": [
        "from sklearn.metrics import confusion_matrix\n",
        "import seaborn as sns\n",
        "\n",
        "plt.figure(figsize=(15, 5))\n",
        "\n",
        "preds = best_model.predict(x_test)\n",
        "preds = (preds >= 0.5).astype(np.int32)\n",
        "cm = confusion_matrix(y_test, preds)\n",
        "df_cm = pd.DataFrame(cm, index=['closed', 'Open'], columns=['Closed', 'Open'])\n",
        "plt.subplot(121)\n",
        "plt.title(\"Confusion matrix\\n\")\n",
        "sns.heatmap(df_cm, annot=True, fmt=\"d\", cmap=\"YlGnBu\")\n",
        "plt.ylabel(\"Predicted\")\n",
        "plt.xlabel(\"Actual\")"
      ]
    },
    {
      "cell_type": "markdown",
      "id": "e7cd3f3e",
      "metadata": {
        "papermill": {
          "duration": 0.168578,
          "end_time": "2023-03-24T09:37:58.545174",
          "exception": false,
          "start_time": "2023-03-24T09:37:58.376596",
          "status": "completed"
        },
        "tags": [],
        "id": "e7cd3f3e"
      },
      "source": [
        "# Accuracy\n",
        "\n",
        "Evaluating the Accuracy"
      ]
    },
    {
      "cell_type": "code",
      "execution_count": 42,
      "id": "40362445",
      "metadata": {
        "execution": {
          "iopub.execute_input": "2023-03-24T09:37:58.887103Z",
          "iopub.status.busy": "2023-03-24T09:37:58.886441Z",
          "iopub.status.idle": "2023-03-24T09:38:03.029123Z",
          "shell.execute_reply": "2023-03-24T09:38:03.027783Z"
        },
        "papermill": {
          "duration": 4.316324,
          "end_time": "2023-03-24T09:38:03.031758",
          "exception": false,
          "start_time": "2023-03-24T09:37:58.715434",
          "status": "completed"
        },
        "tags": [],
        "colab": {
          "base_uri": "https://localhost:8080/"
        },
        "id": "40362445",
        "outputId": "6e3a142f-1c1d-4749-aa72-8d533c0a9b6e"
      },
      "outputs": [
        {
          "output_type": "stream",
          "name": "stdout",
          "text": [
            "42/42 [==============================] - 10s 240ms/step - loss: 0.1033 - accuracy: 0.9803\n",
            "Accuracy: 0.9803030490875244\n"
          ]
        }
      ],
      "source": [
        "accuracy = best_model.evaluate(x_test, y_test)[1]\n",
        "print(\"Accuracy:\", accuracy)"
      ]
    }
  ],
  "metadata": {
    "kernelspec": {
      "display_name": "Python 3",
      "language": "python",
      "name": "python3"
    },
    "language_info": {
      "codemirror_mode": {
        "name": "ipython",
        "version": 3
      },
      "file_extension": ".py",
      "mimetype": "text/x-python",
      "name": "python",
      "nbconvert_exporter": "python",
      "pygments_lexer": "ipython3",
      "version": "3.7.12"
    },
    "papermill": {
      "default_parameters": {},
      "duration": 1183.507204,
      "end_time": "2023-03-24T09:38:05.948610",
      "environment_variables": {},
      "exception": null,
      "input_path": "__notebook__.ipynb",
      "output_path": "__notebook__.ipynb",
      "parameters": {},
      "start_time": "2023-03-24T09:18:22.441406",
      "version": "2.4.0"
    },
    "colab": {
      "provenance": []
    }
  },
  "nbformat": 4,
  "nbformat_minor": 5
}